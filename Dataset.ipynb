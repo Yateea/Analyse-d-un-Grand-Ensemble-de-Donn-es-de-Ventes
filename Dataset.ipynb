{
 "cells": [
  {
   "cell_type": "code",
   "execution_count": 2,
   "id": "92c81f30-050a-4d67-8a79-3495646b6c25",
   "metadata": {},
   "outputs": [
    {
     "name": "stdout",
     "output_type": "stream",
     "text": [
      "   transaction_id  customer_id  product_id  quantity   price transaction_date  \\\n",
      "0               1        15796         111         7  336.48       2023-10-03   \n",
      "1               2          861        3214         3  471.86       2022-06-01   \n",
      "2               3        76821        3079         5  473.96       2023-09-20   \n",
      "3               4        54887        9037         4  466.34       2020-12-11   \n",
      "4               5         6266        7572         7   39.62       2023-07-04   \n",
      "\n",
      "          region  \n",
      "0  North America  \n",
      "1      Australia  \n",
      "2         Europe  \n",
      "3         Europe  \n",
      "4  North America  \n",
      "Fichier 'sales_data.csv' sauvegardé avec succès.\n"
     ]
    }
   ],
   "source": [
    "import pandas as pd\n",
    "import numpy as np\n",
    "from datetime import datetime, timedelta\n",
    "# Paramètres pour la génération de données\n",
    "num_rows = 1_000_000 # 1 million de lignes\n",
    "regions = ['North America', 'Europe', 'Asia', 'South America', 'Africa', 'Australia']\n",
    "start_date = datetime(2020, 1, 1) # Date de début pour les transactions\n",
    "end_date = datetime(2023, 12, 31) # Date de fin pour les transactions\n",
    "# Génération des données\n",
    "np.random.seed(42) # Pour la reproductibilité\n",
    "# transaction_id : Identifiant unique\n",
    "transaction_ids = np.arange(1, num_rows + 1)\n",
    "# customer_id : Identifiant client aléatoire entre 1 et 100 000\n",
    "customer_ids = np.random.randint(1, 100_001, num_rows)\n",
    "# product_id : Identifiant produit aléatoire entre 1 et 10 000\n",
    "product_ids = np.random.randint(1, 10_001, num_rows)\n",
    "# quantity : Quantité aléatoire entre 1 et 10\n",
    "quantities = np.random.randint(1, 11, num_rows)\n",
    "# price : Prix aléatoire entre 10 et 500 (avec 2 décimales)\n",
    "prices = np.round(np.random.uniform(10, 500, num_rows), 2)\n",
    "# transaction_date : Date aléatoire entre start_date et end_date\n",
    "date_range = (end_date - start_date).days\n",
    "transaction_dates = [start_date + timedelta(days=np.random.randint(0, date_range)) for _ in\n",
    "range(num_rows)]\n",
    "# region : Région aléatoire parmi la liste définie\n",
    "regions_data = np.random.choice(regions, num_rows)\n",
    "# Création du DataFrame\n",
    "df = pd.DataFrame({\n",
    "'transaction_id': transaction_ids,\n",
    "'customer_id': customer_ids,\n",
    "'product_id': product_ids,\n",
    "'quantity': quantities,\n",
    "'price': prices,\n",
    "'transaction_date': transaction_dates,\n",
    "'region': regions_data\n",
    "})\n",
    "# Affichage des 5 premières lignes\n",
    "print(df.head())\n",
    "# Sauvegarde du DataFrame dans un fichier CSV\n",
    "df.to_csv('sales_data.csv', index=False)\n",
    "print(\"Fichier 'sales_data.csv' sauvegardé avec succès.\")"
   ]
  },
  {
   "cell_type": "code",
   "execution_count": 3,
   "id": "6779f0f3-2a03-4254-bb17-df024dd96023",
   "metadata": {},
   "outputs": [
    {
     "name": "stdout",
     "output_type": "stream",
     "text": [
      "Fichier 'sales_data.csv' sauvegardé avec succès.\n"
     ]
    }
   ],
   "source": [
    "# Sauvegarde du DataFrame dans un fichier CSV\n",
    "df.to_csv('sales_data.csv', index=False)\n",
    "print(\"Fichier 'sales_data.csv' sauvegardé avec succès.\")"
   ]
  }
 ],
 "metadata": {
  "kernelspec": {
   "display_name": "Python 3 (ipykernel)",
   "language": "python",
   "name": "python3"
  },
  "language_info": {
   "codemirror_mode": {
    "name": "ipython",
    "version": 3
   },
   "file_extension": ".py",
   "mimetype": "text/x-python",
   "name": "python",
   "nbconvert_exporter": "python",
   "pygments_lexer": "ipython3",
   "version": "3.12.4"
  }
 },
 "nbformat": 4,
 "nbformat_minor": 5
}
