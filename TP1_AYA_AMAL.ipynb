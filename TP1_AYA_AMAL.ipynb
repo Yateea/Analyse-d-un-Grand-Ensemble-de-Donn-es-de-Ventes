{
 "cells": [
  {
   "cell_type": "markdown",
   "id": "318db5b7-d682-42d9-a7cf-d7bea054bb9d",
   "metadata": {},
   "source": [
    "<h1 style=\"color: red; font-family: 'Times New Roman'; font-size: 36px; text-align: center; text-decoration: underline;\">\n",
    "    Python avancé \n",
    "</h1>"
   ]
  },
  {
   "cell_type": "markdown",
   "id": "eb1f41ca-a6ed-4ece-9a4d-06baf4b14de2",
   "metadata": {},
   "source": [
    "<h3 style=\"color:#428ef4; font-family: 'Times New Roman'; font-size: 30px; text-align: center;\">\n",
    "   Problème : Analyse d'un Grand Ensemble de Données de Ventes\n",
    "</h3>"
   ]
  },
  {
   "cell_type": "markdown",
   "id": "31086079-9e6d-4279-afa1-951744601fab",
   "metadata": {},
   "source": [
    "<h3 style=\"font-family: 'Times New Roman'; font-size: 30px; text-align: center;\">\n",
    "   AYA AMAL \n",
    "</h3>"
   ]
  },
  {
   "cell_type": "markdown",
   "id": "816782b3-f69a-464a-9b8c-144c6f6094a7",
   "metadata": {},
   "source": [
    "<div style=\"font-family: 'Times New Roman';color: blue;\">\n",
    "    \n",
    "## **1. Échantillonnage et Sous-ensemble de Données**"
   ]
  },
  {
   "cell_type": "markdown",
   "id": "7c03d501-9f8d-4517-95d5-76f3207c0948",
   "metadata": {},
   "source": [
    "\n",
    "-------\n",
    "    \n",
    "> _**` Chargez un échantillon aléatoire de 1 % des lignes du fichier sales_data.csv.`**_\n",
    "\n",
    "-------"
   ]
  },
  {
   "cell_type": "code",
   "execution_count": 1,
   "id": "9b648c0e-1a0c-4e42-91ca-464ac9cf87e2",
   "metadata": {},
   "outputs": [],
   "source": [
    "import pandas as pd"
   ]
  },
  {
   "cell_type": "code",
   "execution_count": 3,
   "id": "1a6d31c0-63cf-473f-b589-4421721c9f32",
   "metadata": {},
   "outputs": [],
   "source": [
    "df_sample = pd.read_csv('sales_data.csv', nrows=1000000)  # Charger 1 million de lignes\n",
    "df_sample = df_sample.sample(frac=0.01, random_state=42)  # Échantillon de 1%"
   ]
  },
  {
   "cell_type": "markdown",
   "id": "b82b1990-cd9f-4022-a3a4-d76af205500f",
   "metadata": {},
   "source": [
    "<div style=\"font-family: 'Times New Roman';\">\n",
    "\n",
    " **Explication:**  \n",
    "\n",
    "1) Charger les premières 1 million de lignes du fichier `sales_data.csv` pour *éviter de surcharger la mémoire* si le fichier est `trop grand.`:  \n",
    "   + `df_sample = pd.read_csv('sales_data.csv', nrows=1000000)`  \n",
    "     - On charge le fichier CSV `sales_data.csv` dans un DataFrame.  \n",
    "     - Le paramètre `nrows=1000000` indique de charger 1 million de lignes.  \n",
    "\n",
    "2) Réduire les données à un sous-ensemble représentatif pour effectuer des analyses rapides ou pour simplifier le traitement tout en conservant une distribution aléatoire:  \n",
    "   + `df_sample.sample()` : Cette méthode est utilisée pour sélectionner un échantillon aléatoire de lignes à partir du DataFrame `df_sample`.  \n",
    "   + `frac=0.01` : Cela spécifie que 1% des données du DataFrame doivent être sélectionnées. Par exemple, si le DataFrame contient 1 million de lignes, il sélectionnera 10,000 lignes.  \n",
    "   + `random_state=42` : Ce paramètre fixe la graine aléatoire pour garantir que les résultats sont reproductibles. Si vous réexécutez le code avec le même `random_state`, vous obtiendrez le même échantillon.  \n",
    "\n",
    "</div>"
   ]
  },
  {
   "cell_type": "markdown",
   "id": "0c6737b5-7050-4c37-a021-29c7b1390ce5",
   "metadata": {},
   "source": [
    "\n",
    "-----\n",
    ">_**`Sélectionnez uniquement les colonnes customer_id, product_id, quantity, et price.`**_\n",
    "\n",
    "------"
   ]
  },
  {
   "cell_type": "code",
   "execution_count": 4,
   "id": "e06259b2-764c-41c3-8968-fe7ad5b06326",
   "metadata": {},
   "outputs": [],
   "source": [
    "df_sample = df_sample[['customer_id', 'product_id', 'quantity', 'price']]"
   ]
  },
  {
   "cell_type": "markdown",
   "id": "b4f9df31-9a37-45bf-8c0c-1d7bfe2627bc",
   "metadata": {},
   "source": [
    "<div style=\"font-family: 'Times New Roman';\"> \n",
    "    \n",
    "**Explication:**\n",
    "- On sélectionne uniquement les colonnes nécessaires pour réduire la taille des données."
   ]
  },
  {
   "cell_type": "markdown",
   "id": "3786f778-c7c0-49d4-ab1f-c6ab9934e7fd",
   "metadata": {},
   "source": [
    "-----    \n",
    "    \n",
    "  > _**`Spécifiez les types de données appropriés pour chaque colonne afin de réduire la consommation de mémoire.`**_\n",
    "\n",
    "------ "
   ]
  },
  {
   "cell_type": "code",
   "execution_count": 6,
   "id": "37c92b23-bcde-4b91-be59-97ad6592a61d",
   "metadata": {},
   "outputs": [
    {
     "name": "stdout",
     "output_type": "stream",
     "text": [
      "        customer_id  product_id  quantity       price\n",
      "987231        88263        3439         4  221.270004\n",
      "79954         46796        3185         1   53.209999\n",
      "567130        77686        7024         9  474.829987\n",
      "500891        26723        5717         4  149.539993\n",
      "55399         55299        5463         3   51.570000\n"
     ]
    }
   ],
   "source": [
    "# Spécifier les types de données pour réduire la mémoire\n",
    "df_sample['customer_id'] = df_sample['customer_id'].astype('int32')\n",
    "df_sample['product_id'] = df_sample['product_id'].astype('int32')\n",
    "df_sample['quantity'] = df_sample['quantity'].astype('int16')\n",
    "df_sample['price'] = df_sample['price'].astype('float32')\n",
    "\n",
    "print(df_sample.head())"
   ]
  },
  {
   "cell_type": "markdown",
   "id": "0783f930-a101-4746-bc92-0aeb27369bb0",
   "metadata": {},
   "source": [
    "<div style=\"font-family: 'Times New Roman';\"> \n",
    "    \n",
    "### Conversion des types de données pour réduire la mémoire\r\n",
    "\r\n",
    "- **`df_sample['customer_id'] = df_sample['customer_id'].astype('int32')`** :\r\n",
    "  - On convertit la colonne `customer_id` en type `int32` pour réduire l'utilisation de mémoire (au lieu de `int64` par défaut).\r\n",
    "\r\n",
    "- **`df_sample['product_id'] = df_sample['product_id'].astype('int32')`** :\r\n",
    "  - Même chose pour `product_id`.\r\n",
    "\r\n",
    "- **`df_sample['quantity'] = df_sample['quantity'].astype('int16')`** :\r\n",
    "  - On convertit `quantity` en `int16` car les quantités sont petites (entre 1 et 10).\r\n",
    "\r\n",
    "- **`df_sample['price'] = df_sample['price'].astype('float32')`** :\r\n",
    "  - On convertit `price` en `float32` pour réduire la mémoire (au lieu de `float64`).\r\n",
    "\r\n",
    "- **`print(df_sample.head())`** :\r\n",
    "  - On affiche les 5 premières lignes du DataFrame pour vérifier les données."
   ]
  },
  {
   "cell_type": "markdown",
   "id": "3ae02689-242c-4434-a17f-413aa44a36bd",
   "metadata": {},
   "source": [
    "<div style=\"font-family: 'Times New Roman';color: blue;\">\n",
    "    \n",
    "## **2. Conversion en Formats de Fichiers Efficaces**"
   ]
  },
  {
   "cell_type": "markdown",
   "id": "2236a995-9cd2-4227-828b-7980e82f52ed",
   "metadata": {},
   "source": [
    "\n",
    "-----    \n",
    "    \n",
    "  > _**`Convertissez l'échantillon de données chargé en format Feather et Parquet.`**_\n",
    "\n",
    "------ "
   ]
  },
  {
   "cell_type": "code",
   "execution_count": 7,
   "id": "1fb8cc40-2f64-46b2-b9b8-32a1cbf7299e",
   "metadata": {},
   "outputs": [
    {
     "name": "stdout",
     "output_type": "stream",
     "text": [
      "Requirement already satisfied: pandas in c:\\users\\user\\anaconda3\\lib\\site-packages (2.2.2)\n",
      "Requirement already satisfied: pyarrow in c:\\users\\user\\anaconda3\\lib\\site-packages (14.0.2)\n",
      "Requirement already satisfied: numpy>=1.26.0 in c:\\users\\user\\anaconda3\\lib\\site-packages (from pandas) (1.26.4)\n",
      "Requirement already satisfied: python-dateutil>=2.8.2 in c:\\users\\user\\anaconda3\\lib\\site-packages (from pandas) (2.9.0.post0)\n",
      "Requirement already satisfied: pytz>=2020.1 in c:\\users\\user\\anaconda3\\lib\\site-packages (from pandas) (2024.1)\n",
      "Requirement already satisfied: tzdata>=2022.7 in c:\\users\\user\\anaconda3\\lib\\site-packages (from pandas) (2023.3)\n",
      "Requirement already satisfied: six>=1.5 in c:\\users\\user\\anaconda3\\lib\\site-packages (from python-dateutil>=2.8.2->pandas) (1.16.0)\n",
      "Note: you may need to restart the kernel to use updated packages.\n"
     ]
    }
   ],
   "source": [
    "# pip install pandas pyarrow"
   ]
  },
  {
   "cell_type": "code",
   "execution_count": 8,
   "id": "8cc8dd13-4e48-43d9-8bb5-4c684076a259",
   "metadata": {},
   "outputs": [
    {
     "name": "stdout",
     "output_type": "stream",
     "text": [
      "Fichier Feather 'sales_sample.feather' sauvegardé avec succès.\n"
     ]
    }
   ],
   "source": [
    "# Convertir en format Feather\n",
    "df_sample.to_feather('sales_sample.feather')\n",
    "print(\"Fichier Feather 'sales_sample.feather' sauvegardé avec succès.\")"
   ]
  },
  {
   "cell_type": "markdown",
   "id": "4914b622-e3e9-451c-9ab9-d35721f883e8",
   "metadata": {},
   "source": [
    "<div style=\"font-family: 'Times New Roman';\">\n",
    "    \n",
    "### **Explication du code**\n",
    "- **Code** :\n",
    "  ```python\n",
    "  df_sample.to_feather('sales_sample.feather'):\n",
    "  + Convertit le DataFrame df_sample en format Feather et le sauvegarde dans un fichier nommé sales_sample.feather.\n",
    "  \n",
    "<span style=\"color: green;\"> 📌 Feather est un format binaire qui permet une lecture/écriture très rapide, idéal pour des échanges de données entre Python et d'autres langages comme R.</span>\r\n"
   ]
  },
  {
   "cell_type": "code",
   "execution_count": 10,
   "id": "dcf6f994-54a5-485c-9a27-4d8f6c9fd1dd",
   "metadata": {},
   "outputs": [
    {
     "name": "stdout",
     "output_type": "stream",
     "text": [
      "Fichier Parquet 'sales_sample.parquet' sauvegardé avec succès.\n"
     ]
    }
   ],
   "source": [
    "# Convertir en format Parquet\n",
    "df_sample.to_parquet('sales_sample.parquet')\n",
    "print(\"Fichier Parquet 'sales_sample.parquet' sauvegardé avec succès.\")"
   ]
  },
  {
   "cell_type": "markdown",
   "id": "35248f45-b87b-4bcd-b9eb-5d7d8c0e292e",
   "metadata": {},
   "source": [
    "<div style=\"font-family: 'Times New Roman';\">\n",
    "    \n",
    "### **Explication :**\n",
    "\n",
    "#### **Conversion du DataFrame en format Parquet**\n",
    "- **Code** :\n",
    "  ```python\n",
    "  df_sample.to_parquet('sales_sample.parquet')\n",
    "+ Convertit le DataFrame df_sample en format Parquet et le sauvegarde dans un fichier nommé sales_sample.parquet.\n",
    "\n",
    "<span style=\"color: green;\"> 📌 Parquet est un format colonnaire qui permet une compression efficace et une lecture rapide, surtout pour les grands ensembles de données.</span>"
   ]
  },
  {
   "cell_type": "markdown",
   "id": "0b07c6fe-97c1-4911-afef-2cd68ffdcc2c",
   "metadata": {},
   "source": [
    "\n",
    "-----    \n",
    "    \n",
    "  > _**`Comparez la taille des fichiers résultants avec celle du fichier CSV d'origine.`**_\n",
    "\n",
    "------ "
   ]
  },
  {
   "cell_type": "code",
   "execution_count": 11,
   "id": "da2f802a-7747-4346-823b-3041bf37b679",
   "metadata": {},
   "outputs": [
    {
     "name": "stdout",
     "output_type": "stream",
     "text": [
      "Taille du fichier Feather: 178282 octets\n",
      "Taille du fichier Parquet: 227171 octets\n",
      "Taille du fichier CSV: 47976227 octets\n"
     ]
    }
   ],
   "source": [
    "import os\n",
    "\n",
    "# Obtenir la taille des fichiers\n",
    "feather_size = os.path.getsize('sales_sample.feather')\n",
    "parquet_size = os.path.getsize('sales_sample.parquet')\n",
    "csv_size = os.path.getsize('sales_data.csv')  # Taille du fichier CSV d'origine\n",
    "\n",
    "# Afficher les tailles\n",
    "print(f\"Taille du fichier Feather: {feather_size} octets\")\n",
    "print(f\"Taille du fichier Parquet: {parquet_size} octets\")\n",
    "print(f\"Taille du fichier CSV: {csv_size} octets\")"
   ]
  },
  {
   "cell_type": "markdown",
   "id": "dca44f1b-dfb6-4efc-957a-ee667b384859",
   "metadata": {},
   "source": [
    "<div style=\"font-family: 'Times New Roman';\">\n",
    "    \n",
    "### **Résultats :**\n",
    "\n",
    "- <span style=\"color: green;\"> **Le fichier Feather** </span>sera généralement plus petit que le CSV, mais plus grand que le Parquet.\n",
    "- <span style=\"color: green;\">**Le fichier Parquet** </span>sera le plus petit grâce à sa compression efficace.\n"
   ]
  },
  {
   "cell_type": "markdown",
   "id": "8d309aa0-ad8c-4221-b8a3-ee643fbbb0c4",
   "metadata": {},
   "source": [
    "-----    \n",
    "    \n",
    "  > _**`Mesurez le temps de chargement pour chaque format et expliquez les différences.`**_\n",
    "\n",
    "------ \n"
   ]
  },
  {
   "cell_type": "code",
   "execution_count": 14,
   "id": "f54f89cd-c61a-46fa-86b2-a615da1132d2",
   "metadata": {},
   "outputs": [
    {
     "name": "stdout",
     "output_type": "stream",
     "text": [
      "Temps de chargement Feather: 0.0051 secondes\n",
      "Temps de chargement Parquet: 0.0066 secondes\n",
      "Temps de chargement CSV: 0.5882 secondes\n"
     ]
    }
   ],
   "source": [
    "import time\n",
    "\n",
    "# Mesurer le temps de chargement pour Feather\n",
    "start_time = time.time()\n",
    "df_feather = pd.read_feather('sales_sample.feather')\n",
    "feather_load_time = time.time() - start_time\n",
    "\n",
    "# Mesurer le temps de chargement pour Parquet\n",
    "start_time = time.time()\n",
    "df_parquet = pd.read_parquet('sales_sample.parquet')\n",
    "parquet_load_time = time.time() - start_time\n",
    "# Mesurer le temps de chargement pour CSV\n",
    "start_time = time.time()\n",
    "df_csv = pd.read_csv('sales_data.csv')\n",
    "csv_load_time = time.time() - start_time\n",
    "\n",
    "# Afficher les temps de chargement\n",
    "print(f\"Temps de chargement Feather: {feather_load_time:.4f} secondes\")\n",
    "print(f\"Temps de chargement Parquet: {parquet_load_time:.4f} secondes\")\n",
    "print(f\"Temps de chargement CSV: {csv_load_time:.4f} secondes\")"
   ]
  },
  {
   "cell_type": "markdown",
   "id": "a093c073-f66c-43ea-b67f-0a52d4cae733",
   "metadata": {},
   "source": [
    "<div style=\"font-family: 'Times New Roman';\">\n",
    "\n",
    "### **Les différences de temps de chargement entre Feather, Parquet et CSV**\n",
    "\n",
    "Les différences de temps de chargement entre **Feather**, **Parquet** et **CSV** s'expliquent par leurs formats et leurs optimisations :\n",
    "\n",
    "- <span style=\"color: green;\">**Feather (0.0051 s)** : </span>\n",
    "  - Format binaire optimisé pour la vitesse, **sans compression**.\n",
    "  - Idéal pour des **échanges rapides** de données.\n",
    "\n",
    "- <span style=\"color: green;\">**Parquet (0.0066 s)** :</span>\n",
    "  - Format binaire **compressé**, légèrement plus lent que Feather mais efficace pour le stockage.\n",
    "  - Parfait pour les **grands ensembles de données**.\n",
    "\n",
    "- <span style=\"color: green;\">**CSV (0.5882 s)** :</span>\n",
    "  - Format texte, **lent** car il nécessite une analyse et une conversion des données.\n",
    "  - Universel, mais **peu performant**.\n",
    "\n",
    "---\n",
    "\n",
    "### **En résumé :**\n",
    "\n",
    "- <span style=\"color: green;\">**Feather** :</span> Rapide, pas de compression.\n",
    "- <span style=\"color: green;\">**Parquet** :</span> Rapide et compressé, idéal pour le stockage.\n",
    "- <span style=\"color: green;\">**CSV** : </span>Lent, mais universel et facile à utiliser.\n",
    "\n",
    "</div>"
   ]
  },
  {
   "cell_type": "markdown",
   "id": "8a6685c6-795f-440d-ba2e-e3a1946371aa",
   "metadata": {},
   "source": [
    "<div style=\"font-family: 'Times New Roman';color: blue;\">\n",
    "\n",
    "## **3. Utilisation de HDF5**"
   ]
  },
  {
   "cell_type": "markdown",
   "id": "aa0f6be9-962a-43f5-a04a-270fe9715105",
   "metadata": {},
   "source": [
    "-----    \n",
    "    \n",
    "  > _**`Créez un fichier HDF5 (sales_data.h5) et stockez l'échantillon de données dans une table appelée sales_sample.`**_\n",
    "\n",
    "------ \n"
   ]
  },
  {
   "cell_type": "code",
   "execution_count": 15,
   "id": "d73789b3-d6e9-49cb-b595-cf6bf8ec03f6",
   "metadata": {},
   "outputs": [
    {
     "name": "stdout",
     "output_type": "stream",
     "text": [
      "Requirement already satisfied: h5py in c:\\users\\user\\anaconda3\\lib\\site-packages (3.11.0)\n",
      "Requirement already satisfied: numpy>=1.17.3 in c:\\users\\user\\anaconda3\\lib\\site-packages (from h5py) (1.26.4)\n",
      "Note: you may need to restart the kernel to use updated packages.\n"
     ]
    }
   ],
   "source": [
    "#pip install h5py"
   ]
  },
  {
   "cell_type": "code",
   "execution_count": 16,
   "id": "55b8da64-6acc-4774-9858-3804fa9a0be0",
   "metadata": {},
   "outputs": [
    {
     "name": "stdout",
     "output_type": "stream",
     "text": [
      "Fichier HDF5 'sales_data.h5' créé avec succès.\n",
      "Les données ont été stockées dans la table 'sales_sample'.\n"
     ]
    }
   ],
   "source": [
    "# Créer un fichier HDF5 et stocker l'échantillon de données\n",
    "with pd.HDFStore('sales_data.h5') as store:\n",
    "    store.put('sales_sample', df_sample)\n",
    "\n",
    "print(\"Fichier HDF5 'sales_data.h5' créé avec succès.\")\n",
    "print(\"Les données ont été stockées dans la table 'sales_sample'.\")"
   ]
  },
  {
   "cell_type": "markdown",
   "id": "a6a341bb-97de-4c57-87e8-ab5cc404528a",
   "metadata": {},
   "source": [
    "<div style=\"font-family: 'Times New Roman';\">\r\n",
    "\r\n",
    "### **Explication ligne par ligne :**\r\n",
    "\r\n",
    "1. **`import pandas as pd`** :\r\n",
    "   - On importe la bibliothèque **pandas** pour manipuler les données.\r\n",
    "\r\n",
    "2. **`with pd.HDFStore('sales_data.h5') as store:`** :\r\n",
    "   - On crée un fichier **HDF5** nommé `sales_data.h5` et on l'ouvre en mode écriture.\r\n",
    "   - Le mot-clé **`with`** garantit que le fichier sera correctement fermé après utilisation.\r\n",
    "\r\n",
    "3. **`store.put('sales_sample', df_sample)`** :\r\n",
    "   - On stocke le DataFrame **`df_sample`** dans une table nommée **`sales_sample`** à l'intérieur du fichier HDF5.\r\n",
    "   - La méthode **`put`** permet d'ajouter des données à une table spécifique.\r\n",
    "\r\n",
    "4. **`print(\"Fichier HDF5 'sales_data.h5' créé avec succès.\")`** :\r\n",
    "   - On affiche un message pour confirmer que le fichier HDF5 a été créé.\r\n",
    "\r\n",
    "5. **`print(\"Les données ont été stockées dans la table 'sales_sample'.\")`** :\r\n",
    "   - On affiche un message pour confirmer que les données ont été stockées dans la table **`sales_sample`**.\r\n",
    "\r\n",
    "</div>"
   ]
  },
  {
   "cell_type": "code",
   "execution_count": 18,
   "id": "6e6080d2-3ac2-4f43-a628-84a8f51645d8",
   "metadata": {},
   "outputs": [
    {
     "name": "stdout",
     "output_type": "stream",
     "text": [
      "Table 'high_price_transactions' ajoutée avec succès.\n"
     ]
    }
   ],
   "source": [
    "# Filtrer les transactions avec un prix > 100 DH\n",
    "df_high_price = df_sample[df_sample['price'] > 100]\n",
    "\n",
    "# Ajouter cette table au fichier HDF5\n",
    "with pd.HDFStore('sales_data.h5') as store:\n",
    "    store.put('high_price_transactions', df_high_price)\n",
    "\n",
    "print(\"Table 'high_price_transactions' ajoutée avec succès.\")"
   ]
  },
  {
   "cell_type": "code",
   "execution_count": 19,
   "id": "3ed87334-91af-4096-bef1-1d541de7fbe7",
   "metadata": {},
   "outputs": [
    {
     "name": "stdout",
     "output_type": "stream",
     "text": [
      "Aperçu des données de la table 'sales_sample':\n",
      "        customer_id  product_id  quantity       price\n",
      "987231        88263        3439         4  221.270004\n",
      "79954         46796        3185         1   53.209999\n",
      "567130        77686        7024         9  474.829987\n",
      "500891        26723        5717         4  149.539993\n",
      "55399         55299        5463         3   51.570000\n"
     ]
    }
   ],
   "source": [
    "# Lire les données de la table 'sales_sample' dans le fichier HDF5\n",
    "with pd.HDFStore('sales_data.h5') as store:\n",
    "    df_sales_sample = store['sales_sample']\n",
    "\n",
    "# Afficher les 5 premières lignes\n",
    "print(\"Aperçu des données de la table 'sales_sample':\")\n",
    "print(df_sales_sample.head())"
   ]
  },
  {
   "cell_type": "markdown",
   "id": "c4752470-81bc-4f77-b710-a684ef22894d",
   "metadata": {},
   "source": [
    "\n",
    "<div style=\"font-family: 'Times New Roman';color: blue;\">\n",
    "\n",
    "## **4. Lecture par Morceaux**"
   ]
  },
  {
   "cell_type": "code",
   "execution_count": 20,
   "id": "984d7dbf-507e-4a6e-99ad-de0892a16b2f",
   "metadata": {},
   "outputs": [
    {
     "name": "stdout",
     "output_type": "stream",
     "text": [
      "Morceau de 100000 lignes chargé :\n",
      "   transaction_id  customer_id  product_id  quantity   price transaction_date  \\\n",
      "0               1        15796         111         7  336.48       2023-10-03   \n",
      "1               2          861        3214         3  471.86       2022-06-01   \n",
      "2               3        76821        3079         5  473.96       2023-09-20   \n",
      "3               4        54887        9037         4  466.34       2020-12-11   \n",
      "4               5         6266        7572         7   39.62       2023-07-04   \n",
      "\n",
      "          region  \n",
      "0  North America  \n",
      "1      Australia  \n",
      "2         Europe  \n",
      "3         Europe  \n",
      "4  North America  \n",
      "\n",
      "---\n",
      "\n",
      "Morceau de 100000 lignes chargé :\n",
      "        transaction_id  customer_id  product_id  quantity   price  \\\n",
      "100000          100001        26688        2350         6  411.01   \n",
      "100001          100002        82651        6569         4   28.28   \n",
      "100002          100003        95529        3075         3  473.58   \n",
      "100003          100004        37961        4113         3  121.89   \n",
      "100004          100005        17348        8932         4  381.50   \n",
      "\n",
      "       transaction_date         region  \n",
      "100000       2020-12-19           Asia  \n",
      "100001       2021-01-12  North America  \n",
      "100002       2023-05-01  South America  \n",
      "100003       2021-08-12         Africa  \n",
      "100004       2023-06-27           Asia  \n",
      "\n",
      "---\n",
      "\n",
      "Morceau de 100000 lignes chargé :\n",
      "        transaction_id  customer_id  product_id  quantity   price  \\\n",
      "200000          200001         5281        8352         3  358.37   \n",
      "200001          200002        21269        7602        10  256.24   \n",
      "200002          200003        46192        4928         2  225.66   \n",
      "200003          200004        35122        2967         2  469.70   \n",
      "200004          200005        45523        1702         2  464.47   \n",
      "\n",
      "       transaction_date         region  \n",
      "200000       2023-03-15         Europe  \n",
      "200001       2023-03-28  North America  \n",
      "200002       2020-08-03  South America  \n",
      "200003       2022-02-17      Australia  \n",
      "200004       2020-04-05         Africa  \n",
      "\n",
      "---\n",
      "\n",
      "Morceau de 100000 lignes chargé :\n",
      "        transaction_id  customer_id  product_id  quantity   price  \\\n",
      "300000          300001        29425        7103         7   61.46   \n",
      "300001          300002        63189         142        10  318.43   \n",
      "300002          300003        98556        2543         9  126.86   \n",
      "300003          300004         6216        2423         6  212.25   \n",
      "300004          300005        80884        5973         4  497.28   \n",
      "\n",
      "       transaction_date     region  \n",
      "300000       2020-11-22  Australia  \n",
      "300001       2021-05-24     Africa  \n",
      "300002       2021-11-25       Asia  \n",
      "300003       2021-02-16       Asia  \n",
      "300004       2023-06-11  Australia  \n",
      "\n",
      "---\n",
      "\n",
      "Morceau de 100000 lignes chargé :\n",
      "        transaction_id  customer_id  product_id  quantity   price  \\\n",
      "400000          400001        83327        6417         6  264.67   \n",
      "400001          400002        59030        4402         8  377.39   \n",
      "400002          400003        32472        1261         5  150.68   \n",
      "400003          400004        36044        9287         9   90.76   \n",
      "400004          400005        45561         148         8   47.40   \n",
      "\n",
      "       transaction_date         region  \n",
      "400000       2021-09-05  North America  \n",
      "400001       2021-02-10         Africa  \n",
      "400002       2021-09-04           Asia  \n",
      "400003       2022-12-04           Asia  \n",
      "400004       2023-12-06      Australia  \n",
      "\n",
      "---\n",
      "\n",
      "Morceau de 100000 lignes chargé :\n",
      "        transaction_id  customer_id  product_id  quantity   price  \\\n",
      "500000          500001        94057        3667         9  164.03   \n",
      "500001          500002        42540        4839         9  409.02   \n",
      "500002          500003        32244        6169         8   12.66   \n",
      "500003          500004        12959        4126        10  432.48   \n",
      "500004          500005          963        4892         2  154.58   \n",
      "\n",
      "       transaction_date         region  \n",
      "500000       2023-10-18      Australia  \n",
      "500001       2023-07-31         Africa  \n",
      "500002       2023-03-18           Asia  \n",
      "500003       2022-02-10         Africa  \n",
      "500004       2020-06-06  South America  \n",
      "\n",
      "---\n",
      "\n",
      "Morceau de 100000 lignes chargé :\n",
      "        transaction_id  customer_id  product_id  quantity   price  \\\n",
      "600000          600001        51996        3201         7  428.64   \n",
      "600001          600002        12891        5002         4  291.13   \n",
      "600002          600003        48576        1172         4   31.08   \n",
      "600003          600004        58686        6848         4  307.50   \n",
      "600004          600005        81456        1757         8  474.64   \n",
      "\n",
      "       transaction_date         region  \n",
      "600000       2023-11-21           Asia  \n",
      "600001       2022-06-13  South America  \n",
      "600002       2021-10-03      Australia  \n",
      "600003       2023-07-04  South America  \n",
      "600004       2021-02-01      Australia  \n",
      "\n",
      "---\n",
      "\n",
      "Morceau de 100000 lignes chargé :\n",
      "        transaction_id  customer_id  product_id  quantity   price  \\\n",
      "700000          700001        14799        8276         5  472.77   \n",
      "700001          700002        25649        8404         4  325.04   \n",
      "700002          700003        25893        6900         3  421.77   \n",
      "700003          700004        39239        7688         9   72.64   \n",
      "700004          700005        22779         677         4  329.95   \n",
      "\n",
      "       transaction_date         region  \n",
      "700000       2021-03-09         Africa  \n",
      "700001       2021-06-02         Europe  \n",
      "700002       2020-09-24  South America  \n",
      "700003       2021-05-04  South America  \n",
      "700004       2022-04-01         Europe  \n",
      "\n",
      "---\n",
      "\n",
      "Morceau de 100000 lignes chargé :\n",
      "        transaction_id  customer_id  product_id  quantity   price  \\\n",
      "800000          800001        50529        4176         7  235.13   \n",
      "800001          800002        15569        6321         4  207.80   \n",
      "800002          800003        19938        5817         8  147.13   \n",
      "800003          800004        90158        7050         5  204.60   \n",
      "800004          800005        72086        2039        10   14.68   \n",
      "\n",
      "       transaction_date         region  \n",
      "800000       2020-11-02  North America  \n",
      "800001       2020-07-05         Europe  \n",
      "800002       2021-04-02           Asia  \n",
      "800003       2020-02-03         Europe  \n",
      "800004       2020-06-20  North America  \n",
      "\n",
      "---\n",
      "\n",
      "Morceau de 100000 lignes chargé :\n",
      "        transaction_id  customer_id  product_id  quantity   price  \\\n",
      "900000          900001        90363        4451         5  267.32   \n",
      "900001          900002        34240        1424         9  119.30   \n",
      "900002          900003        61863        8852        10  174.99   \n",
      "900003          900004        40689        8541         9   46.03   \n",
      "900004          900005        97204        5066         9  382.34   \n",
      "\n",
      "       transaction_date         region  \n",
      "900000       2020-02-03  North America  \n",
      "900001       2022-10-11         Europe  \n",
      "900002       2020-10-10         Europe  \n",
      "900003       2020-02-01      Australia  \n",
      "900004       2023-08-29  North America  \n",
      "\n",
      "---\n",
      "\n"
     ]
    }
   ],
   "source": [
    "# Définir la taille d'un morceau (chunk)\n",
    "chunk_size = 100000\n",
    "\n",
    "# Lire le fichier CSV par morceaux\n",
    "for chunk in pd.read_csv('sales_data.csv', chunksize=chunk_size):\n",
    "    # Traiter chaque morceau ici\n",
    "    print(f\"Morceau de {len(chunk)} lignes chargé :\")\n",
    "    print(chunk.head())  # Afficher les 5 premières lignes du morceau\n",
    "    print(\"\\n---\\n\")"
   ]
  },
  {
   "cell_type": "markdown",
   "id": "34b7122d-7519-4055-8d35-5851cbfcbe10",
   "metadata": {},
   "source": [
    "<div style=\"font-family: 'Times New Roman';\">\r\n",
    "\r\n",
    "### **Explication ligne par ligne :**\r\n",
    "\r\n",
    "1. **`import pandas as pd`** :\r\n",
    "   - On importe la bibliothèque **pandas** pour manipuler les données.\r\n",
    "\r\n",
    "2. **`chunk_size = 100000`** :\r\n",
    "   - On définit la taille d'un morceau à **100 000 lignes**.\r\n",
    "\r\n",
    "3. **`for chunk in pd.read_csv('sales_data.csv', chunksize=chunk_size):`** :\r\n",
    "   - On lit le fichier CSV **`sales_data.csv`** par morceaux de **100 000 lignes**.\r\n",
    "   - Le paramètre **`chunksize`** permet de diviser le fichier en morceaux de la taille spécifiée.\r\n",
    "   - Chaque morceau est un **DataFrame** contenant **100 000 lignes** (ou moins pour le dernier morceau).\r\n",
    "\r\n",
    "4. **`print(f\"Morceau de {len(chunk)} lignes chargé :\")`** :\r\n",
    "   - On affiche le nombre de lignes dans le morceau actuel.\r\n",
    "\r\n",
    "5. **`print(chunk.head())`** :\r\n",
    "   - On affiche les **5 premières lignes** du morceau pour vérifier les données.\r\n",
    "\r\n",
    "6. **`print(\"\\n---\\n\")`** :\r\n",
    "   - On ajoute une **séparation visuelle** entre les morceaux.\r\n",
    "\r\n",
    "</div>"
   ]
  },
  {
   "cell_type": "code",
   "execution_count": 28,
   "id": "7761e48a-b2d1-401c-abed-2f676db7f993",
   "metadata": {},
   "outputs": [
    {
     "name": "stdout",
     "output_type": "stream",
     "text": [
      "Transactions avec une quantité > 10 :\n",
      "Empty DataFrame\n",
      "Columns: [transaction_id, customer_id, product_id, quantity, price, transaction_date, region]\n",
      "Index: []\n",
      "Nombre total de transactions avec une quantité > 10 : 0\n"
     ]
    }
   ],
   "source": [
    "# Définir la taille d'un morceau (chunk)\n",
    "chunk_size = 100000\n",
    "\n",
    "# Initialiser une liste pour stocker les résultats filtrés\n",
    "filtered_chunks = []\n",
    "\n",
    "# Lire le fichier CSV par morceaux\n",
    "for chunk in pd.read_csv('sales_data.csv', chunksize=chunk_size):\n",
    "    # Filtrer les transactions avec une quantité > 10\n",
    "    filtered_chunk = chunk[chunk['quantity'] > 10]\n",
    "    \n",
    "    # Ajouter le morceau filtré à la liste\n",
    "    filtered_chunks.append(filtered_chunk)\n",
    "\n",
    "# Combiner tous les morceaux filtrés en un seul DataFrame\n",
    "df_filtered = pd.concat(filtered_chunks)\n",
    "\n",
    "# Afficher les 5 premières lignes du résultat final\n",
    "print(\"Transactions avec une quantité > 10 :\")\n",
    "print(df_filtered.head())\n",
    "\n",
    "# Afficher le nombre total de transactions filtrées\n",
    "print(f\"Nombre total de transactions avec une quantité > 10 : {len(df_filtered)}\")"
   ]
  },
  {
   "cell_type": "markdown",
   "id": "8ad7ad06-4d06-4975-96ce-22abb996eb1d",
   "metadata": {},
   "source": [
    "<div style=\"font-family: 'Times New Roman';color:red;\">\n",
    "\n",
    "### Le résultat indique qu'il n'y a aucune transaction dans le fichier sales_data.csv ayant une quantité supérieure à 10.\n",
    "\n",
    "</div>"
   ]
  },
  {
   "cell_type": "code",
   "execution_count": 22,
   "id": "243c1d1f-e660-46a1-96c0-58a5b83ad327",
   "metadata": {},
   "outputs": [
    {
     "name": "stdout",
     "output_type": "stream",
     "text": [
      "Aperçu des données :\n",
      "   transaction_id  customer_id  product_id  quantity   price transaction_date  \\\n",
      "0               1        15796         111         7  336.48       2023-10-03   \n",
      "1               2          861        3214         3  471.86       2022-06-01   \n",
      "2               3        76821        3079         5  473.96       2023-09-20   \n",
      "3               4        54887        9037         4  466.34       2020-12-11   \n",
      "4               5         6266        7572         7   39.62       2023-07-04   \n",
      "5               6        82387        9041         6   60.97       2021-11-26   \n",
      "6               7        37195         371         1  491.98       2020-11-05   \n",
      "7               8        87499        4566         2  497.23       2021-08-17   \n",
      "8               9        44132        1056         5  405.97       2020-06-16   \n",
      "9              10        60264         448         3   91.68       2020-12-11   \n",
      "\n",
      "          region  \n",
      "0  North America  \n",
      "1      Australia  \n",
      "2         Europe  \n",
      "3         Europe  \n",
      "4  North America  \n",
      "5  North America  \n",
      "6  North America  \n",
      "7      Australia  \n",
      "8         Europe  \n",
      "9         Africa  \n"
     ]
    }
   ],
   "source": [
    "# Charger les 10 premières lignes du fichier CSV\n",
    "df_sample = pd.read_csv('sales_data.csv', nrows=10)\n",
    "\n",
    "# Afficher les données\n",
    "print(\"Aperçu des données :\")\n",
    "print(df_sample)"
   ]
  },
  {
   "cell_type": "code",
   "execution_count": 29,
   "id": "74c382a7-054d-4714-b0a8-6fa80866b2c3",
   "metadata": {},
   "outputs": [
    {
     "data": {
      "text/html": [
       "<div>\n",
       "<style scoped>\n",
       "    .dataframe tbody tr th:only-of-type {\n",
       "        vertical-align: middle;\n",
       "    }\n",
       "\n",
       "    .dataframe tbody tr th {\n",
       "        vertical-align: top;\n",
       "    }\n",
       "\n",
       "    .dataframe thead th {\n",
       "        text-align: right;\n",
       "    }\n",
       "</style>\n",
       "<table border=\"1\" class=\"dataframe\">\n",
       "  <thead>\n",
       "    <tr style=\"text-align: right;\">\n",
       "      <th></th>\n",
       "      <th>transaction_id</th>\n",
       "      <th>customer_id</th>\n",
       "      <th>product_id</th>\n",
       "      <th>quantity</th>\n",
       "      <th>price</th>\n",
       "      <th>transaction_date</th>\n",
       "      <th>region</th>\n",
       "    </tr>\n",
       "  </thead>\n",
       "  <tbody>\n",
       "    <tr>\n",
       "      <th>0</th>\n",
       "      <td>1</td>\n",
       "      <td>15796</td>\n",
       "      <td>111</td>\n",
       "      <td>7</td>\n",
       "      <td>336.48</td>\n",
       "      <td>2023-10-03</td>\n",
       "      <td>North America</td>\n",
       "    </tr>\n",
       "    <tr>\n",
       "      <th>1</th>\n",
       "      <td>2</td>\n",
       "      <td>861</td>\n",
       "      <td>3214</td>\n",
       "      <td>3</td>\n",
       "      <td>471.86</td>\n",
       "      <td>2022-06-01</td>\n",
       "      <td>Australia</td>\n",
       "    </tr>\n",
       "    <tr>\n",
       "      <th>2</th>\n",
       "      <td>3</td>\n",
       "      <td>76821</td>\n",
       "      <td>3079</td>\n",
       "      <td>5</td>\n",
       "      <td>473.96</td>\n",
       "      <td>2023-09-20</td>\n",
       "      <td>Europe</td>\n",
       "    </tr>\n",
       "    <tr>\n",
       "      <th>3</th>\n",
       "      <td>4</td>\n",
       "      <td>54887</td>\n",
       "      <td>9037</td>\n",
       "      <td>4</td>\n",
       "      <td>466.34</td>\n",
       "      <td>2020-12-11</td>\n",
       "      <td>Europe</td>\n",
       "    </tr>\n",
       "    <tr>\n",
       "      <th>4</th>\n",
       "      <td>5</td>\n",
       "      <td>6266</td>\n",
       "      <td>7572</td>\n",
       "      <td>7</td>\n",
       "      <td>39.62</td>\n",
       "      <td>2023-07-04</td>\n",
       "      <td>North America</td>\n",
       "    </tr>\n",
       "  </tbody>\n",
       "</table>\n",
       "</div>"
      ],
      "text/plain": [
       "   transaction_id  customer_id  product_id  quantity   price transaction_date  \\\n",
       "0               1        15796         111         7  336.48       2023-10-03   \n",
       "1               2          861        3214         3  471.86       2022-06-01   \n",
       "2               3        76821        3079         5  473.96       2023-09-20   \n",
       "3               4        54887        9037         4  466.34       2020-12-11   \n",
       "4               5         6266        7572         7   39.62       2023-07-04   \n",
       "\n",
       "          region  \n",
       "0  North America  \n",
       "1      Australia  \n",
       "2         Europe  \n",
       "3         Europe  \n",
       "4  North America  "
      ]
     },
     "execution_count": 29,
     "metadata": {},
     "output_type": "execute_result"
    }
   ],
   "source": [
    "df_sample.head()"
   ]
  },
  {
   "cell_type": "code",
   "execution_count": 30,
   "id": "e9c73f42-396b-419a-886e-b287d6cba7db",
   "metadata": {},
   "outputs": [
    {
     "name": "stdout",
     "output_type": "stream",
     "text": [
      "Transactions avec une quantité > 10 :\n",
      "Empty DataFrame\n",
      "Columns: [transaction_id, customer_id, product_id, quantity, price, transaction_date, region]\n",
      "Index: []\n",
      "Nombre total de transactions avec une quantité > 10 : 0\n"
     ]
    }
   ],
   "source": [
    "# Combiner tous les morceaux filtrés en un seul DataFrame\n",
    "df_filtered = pd.concat(filtered_chunks)\n",
    "\n",
    "# Afficher les 5 premières lignes du résultat final\n",
    "print(\"Transactions avec une quantité > 10 :\")\n",
    "print(df_filtered.head())\n",
    "\n",
    "# Afficher le nombre total de transactions filtrées\n",
    "print(f\"Nombre total de transactions avec une quantité > 10 : {len(df_filtered)}\")"
   ]
  },
  {
   "cell_type": "code",
   "execution_count": 31,
   "id": "baea9e90-3473-41e5-8816-142f087718a3",
   "metadata": {},
   "outputs": [
    {
     "name": "stdout",
     "output_type": "stream",
     "text": [
      "Total des ventes pour les transactions avec une quantité > 10 : 0.00 DH\n"
     ]
    }
   ],
   "source": [
    "# Calculer le total des ventes pour les transactions filtrées\n",
    "total_sales = (df_filtered['quantity'] * df_filtered['price']).sum()\n",
    "\n",
    "# Afficher le total des ventes\n",
    "print(f\"Total des ventes pour les transactions avec une quantité > 10 : {total_sales:.2f} DH\")"
   ]
  },
  {
   "cell_type": "markdown",
   "id": "5365a01e-8c38-4ceb-8b79-7d1801287cbc",
   "metadata": {},
   "source": [
    "\n",
    "<div style=\"font-family: 'Times New Roman';color: blue;\">\n",
    "\n",
    "## **5. Chargement dans une Base de Données**"
   ]
  },
  {
   "cell_type": "code",
   "execution_count": 32,
   "id": "babadf46-2c88-429e-b90e-0e9dc48d3259",
   "metadata": {},
   "outputs": [],
   "source": [
    "import sqlite3"
   ]
  },
  {
   "cell_type": "code",
   "execution_count": 33,
   "id": "8a501a83-3126-4c51-9aba-7890c489333f",
   "metadata": {},
   "outputs": [],
   "source": [
    "# Créer une connexion à la base de données SQLite \n",
    "conn = sqlite3.connect('sales.db')"
   ]
  },
  {
   "cell_type": "code",
   "execution_count": 35,
   "id": "ad32e8b0-ed09-4636-915a-38c035e16aad",
   "metadata": {},
   "outputs": [
    {
     "name": "stdout",
     "output_type": "stream",
     "text": [
      "Base de données 'sales.db' créée avec succès.\n",
      "Les données ont été chargées dans la table 'sales'.\n"
     ]
    }
   ],
   "source": [
    "# Charger le DataFrame dans la table 'sales'\n",
    "df_sample.to_sql('sales', conn, if_exists='replace', index=False)\n",
    "\n",
    "# Fermer la connexion à la base de données\n",
    "conn.close()\n",
    "\n",
    "print(\"Base de données 'sales.db' créée avec succès.\")\n",
    "print(\"Les données ont été chargées dans la table 'sales'.\")"
   ]
  },
  {
   "cell_type": "code",
   "execution_count": 37,
   "id": "58d0067a-2dc3-48c0-9e59-1f3ebbc53950",
   "metadata": {},
   "outputs": [
    {
     "name": "stdout",
     "output_type": "stream",
     "text": [
      "Aperçu des données dans la table 'sales' :\n",
      "   transaction_id  customer_id  product_id  quantity   price transaction_date  \\\n",
      "0               1        15796         111         7  336.48       2023-10-03   \n",
      "1               2          861        3214         3  471.86       2022-06-01   \n",
      "2               3        76821        3079         5  473.96       2023-09-20   \n",
      "3               4        54887        9037         4  466.34       2020-12-11   \n",
      "4               5         6266        7572         7   39.62       2023-07-04   \n",
      "\n",
      "          region  \n",
      "0  North America  \n",
      "1      Australia  \n",
      "2         Europe  \n",
      "3         Europe  \n",
      "4  North America  \n"
     ]
    }
   ],
   "source": [
    "##Vérifier les données dans la base de données\n",
    "# Ouvrir une connexion à la base de données\n",
    "conn = sqlite3.connect('sales.db')\n",
    "\n",
    "# Exécuter une requête SQL pour afficher les 5 premières lignes de la table 'sales'\n",
    "query = \"SELECT * FROM sales LIMIT 5\"\n",
    "df_sample = pd.read_sql_query(query, conn)\n",
    "\n",
    "# Afficher les données\n",
    "print(\"Aperçu des données dans la table 'sales' :\")\n",
    "print(df_sample)\n",
    "\n",
    "# Fermer la connexion à la base de données\n",
    "conn.close()"
   ]
  },
  {
   "cell_type": "code",
   "execution_count": 39,
   "id": "fe7b96e4-448d-4c30-be1f-ef55a1ff3019",
   "metadata": {},
   "outputs": [
    {
     "name": "stdout",
     "output_type": "stream",
     "text": [
      "Transactions dans la région 'Europe' avec un prix > 50 DH :\n",
      "   transaction_id  customer_id  product_id  quantity   price transaction_date  \\\n",
      "0               3        76821        3079         5  473.96       2023-09-20   \n",
      "1               4        54887        9037         4  466.34       2020-12-11   \n",
      "2               9        44132        1056         5  405.97       2020-06-16   \n",
      "\n",
      "   region  \n",
      "0  Europe  \n",
      "1  Europe  \n",
      "2  Europe  \n",
      "Total des ventes pour les transactions en 'Europe' avec un prix > 50 DH : 6265.01 DH\n"
     ]
    }
   ],
   "source": [
    "# Utiliser un gestionnaire de contexte pour gérer la connexion\n",
    "with sqlite3.connect('sales.db') as conn:\n",
    "    # Définir la requête SQL\n",
    "    query = \"\"\"\n",
    "    SELECT * FROM sales\n",
    "    WHERE region = 'Europe' AND price > 50\n",
    "    \"\"\"\n",
    "\n",
    "    # Exécuter la requête et stocker les résultats dans un DataFrame\n",
    "    df_europe_high_price = pd.read_sql_query(query, conn)\n",
    "\n",
    "    # Afficher les résultats\n",
    "    print(\"Transactions dans la région 'Europe' avec un prix > 50 DH :\")\n",
    "    print(df_europe_high_price)\n",
    "\n",
    "    # Calculer le total des ventes pour les transactions filtrées\n",
    "    total_sales = (df_europe_high_price['quantity'] * df_europe_high_price['price']).sum()\n",
    "\n",
    "    # Afficher le total des ventes\n",
    "    print(f\"Total des ventes pour les transactions en 'Europe' avec un prix > 50 DH : {total_sales:.2f} DH\")"
   ]
  },
  {
   "cell_type": "markdown",
   "id": "93fdad43-5e26-44b8-8b8e-c48681ffd9bc",
   "metadata": {},
   "source": [
    "<div style=\"font-family: 'Times New Roman';\">\n",
    "    \n",
    "### Explication étape par étape :\n",
    "\n",
    "+ ouverture du connexion à la base de données sales.db. Le gestionnaire de contexte assure que la connexion est fermée après lexécution du code.\n",
    "    \n",
    "* La requête query sélectionne toutes les colonnes de la table sales pour les transactions dans la région 'Europe' où le prix est supérieur à 50 DH.\n",
    "+ Exécute la requête SQL et place les résultats dans un DataFrame pandas pour un traitement facile.\n",
    "+ Affiche les transactions filtrées pour la région 'Europe' avec un prix supérieur à 50 DH.\n",
    "+ Le total des ventes est affiché avec une précision de deux décimales grâce à :.2f.\n",
    "     "
   ]
  },
  {
   "cell_type": "markdown",
   "id": "2e1c9f29-da65-48c8-868f-488cc8d92f06",
   "metadata": {},
   "source": [
    "\n",
    "<div style=\"font-family: 'Times New Roman';color:red;\">\n",
    "\n",
    "_With, la connexion est automatiquement fermée à la fin du bloc, même en cas d'erreur._\n",
    "\n",
    "</div>"
   ]
  },
  {
   "cell_type": "code",
   "execution_count": 40,
   "id": "d5a2f177-8ab6-4a15-9b8d-251932eb06a1",
   "metadata": {},
   "outputs": [
    {
     "name": "stdout",
     "output_type": "stream",
     "text": [
      "Total des ventes pour les transactions en 'Europe' avec un prix > 50 DH : 6265.01 DH\n"
     ]
    }
   ],
   "source": [
    "# Calculer le total des ventes pour ces transactions\n",
    "total_sales = (df_europe_high_price['quantity'] * df_europe_high_price['price']).sum()\n",
    "\n",
    "# Afficher le résultat\n",
    "print(f\"Total des ventes pour les transactions en 'Europe' avec un prix > 50 DH : {total_sales:.2f} DH\")\n",
    "\n",
    "# Fermer la connexion à la base de données\n",
    "conn.close()"
   ]
  },
  {
   "cell_type": "markdown",
   "id": "3021e897-225c-42e1-abb7-995ed4cdfa86",
   "metadata": {},
   "source": [
    "<div style=\"font-family: 'Times New Roman';\">\n",
    "    \n",
    "## Explication simplifiée du code\n",
    "\n",
    "- **Calcul du total des ventes :** Multiplie la quantité (`quantity`) par le prix (`price`) pour chaque transaction et additionne les valeurs avec `.sum()`.\n",
    "- **Affichage du total des ventes :** Affiche le total des ventes formaté avec deux décimales.\n",
    "- **Fermeture de la connexion :** Ferme la connexion à la base de données pour libérer les ressources.\n"
   ]
  },
  {
   "cell_type": "markdown",
   "id": "e30844fe-1aaa-4546-9a0c-78b067b2f9c1",
   "metadata": {},
   "source": [
    "<div style=\"font-family: 'Times New Roman';color: blue;\">\n",
    "\n",
    "## **Questions sur les Techniques d'Analyse de Données de Ventes**"
   ]
  },
  {
   "cell_type": "markdown",
   "id": "c20a60c5-34e8-48e4-9487-a85bb8e59826",
   "metadata": {},
   "source": [
    "-----    \n",
    "    \n",
    "  >#### _**`Échantillonnage et Sous-ensemble de Données `**_\n",
    "\n",
    "------ \n"
   ]
  },
  {
   "cell_type": "markdown",
   "id": "50d271a4-6cd4-42a9-b387-b1e2722b0050",
   "metadata": {},
   "source": [
    "<div style=\"font-family: 'Times New Roman';color: green;\">\n",
    "\n",
    "#### **1.Pourquoi est-il utile de charger un échantillon aléatoire de données plutôt que l'ensemble complet ?**"
   ]
  },
  {
   "cell_type": "markdown",
   "id": "a46d903f-4af1-47fb-a82d-f667a1e0c427",
   "metadata": {},
   "source": [
    "<div style=\"font-family: 'Times New Roman';\">\n",
    "    \n",
    "+ Parce que le fichier est trop gros pour être chargé en mémoire en une seule fois. Un échantillon permet de faire des analyses plus rapidement et avec moins de mémoire."
   ]
  },
  {
   "cell_type": "markdown",
   "id": "8e07869b-219f-4229-8921-2d7947fabb4a",
   "metadata": {},
   "source": [
    "<div style=\"font-family: 'Times New Roman';color: green;\">\n",
    "\n",
    "#### **2.Comment la spécification des types de données réduit-elle la consommation de mémoire ?**"
   ]
  },
  {
   "cell_type": "markdown",
   "id": "49a19562-9251-4dad-aea9-9c90054a8028",
   "metadata": {},
   "source": [
    "<div style=\"font-family: 'Times New Roman';\">\n",
    "    \n",
    "+ La spécification des types de données réduit la consommation de mémoire en allouant uniquement l'espace nécessaire pour stocker les données. Par exemple, utiliser `int32` au lieu de `int64` divise par deux l'espace mémoire utilisé."
   ]
  },
  {
   "cell_type": "markdown",
   "id": "2aef7d8b-23af-4003-be59-19e41ac3484b",
   "metadata": {},
   "source": [
    "-----    \n",
    "    \n",
    "  >#### _**`Conversion en Formats de Fichiers Efficaces `**_\n",
    "\n",
    "------ \n"
   ]
  },
  {
   "cell_type": "markdown",
   "id": "1e62d134-804e-49ce-b8bb-e242925c0a13",
   "metadata": {},
   "source": [
    "<div style=\"font-family: 'Times New Roman';color: green;\">\n",
    "\n",
    "#### **1.Quels sont les avantages des formats Feather et Parquet par rapport au format CSV ?**"
   ]
  },
  {
   "cell_type": "markdown",
   "id": "8c3a809a-ed0c-4e34-a50c-4e0686ab08c5",
   "metadata": {},
   "source": [
    "<div style=\"font-family: 'Times New Roman';\">\n",
    "    \n",
    "+ __Feather__ : Lecture et écriture rapides, idéal pour échanger des données entre Python et R.\n",
    "\n",
    "+ __Parquet__ : Compression efficace, lecture sélective de colonnes, idéal pour le stockage de gros fichiers.\n",
    "\n",
    "+ __CSV__ : Simple, mais lent et prend plus de place."
   ]
  },
  {
   "cell_type": "markdown",
   "id": "8a31e92c-2f2d-4457-9504-a99eab67ce2a",
   "metadata": {},
   "source": [
    "<div style=\"font-family: 'Times New Roman';color: green;\">\n",
    "\n",
    "#### **2.Dans quels cas préféreriez-vous utiliser Feather plutôt que Parquet, et vice versa ?**"
   ]
  },
  {
   "cell_type": "markdown",
   "id": "cbcc1cfc-e4d4-45b7-a88c-05d95241a76a",
   "metadata": {},
   "source": [
    "<div style=\"font-family: 'Times New Roman';\">\n",
    "\n",
    "+ __Feather__ : À utiliser pour des échanges rapides de données entre Python et R, ou pour des fichiers temporaires.\n",
    "+ __Parquet__ : À utiliser pour le stockage à long terme de gros fichiers, surtout en Big Data, grâce à sa compression et sa lecture sélective de colonnes."
   ]
  },
  {
   "cell_type": "markdown",
   "id": "5d6b03ed-177f-4bc6-a9c9-71ce522db988",
   "metadata": {},
   "source": [
    "-----    \n",
    "    \n",
    "  >#### _**`Utilisation de HDF5  `**_\n",
    "\n",
    "------ \n"
   ]
  },
  {
   "cell_type": "markdown",
   "id": "d878e2f2-1104-4e7a-9256-ebc4dfd8549b",
   "metadata": {},
   "source": [
    "<div style=\"font-family: 'Times New Roman';color: green;\">\n",
    "\n",
    "#### **1.Qu'est-ce qu'un fichier HDF5 et comment est-il structuré ?**"
   ]
  },
  {
   "cell_type": "markdown",
   "id": "ce143a0f-9503-4726-92d6-41d812022ff7",
   "metadata": {},
   "source": [
    "<div style=\"font-family: 'Times New Roman';\">\n",
    "    \n",
    "+ C'est un format de fichier pour stocker de grandes quantités de données. Il est organisé en groupes et datasets, comme un système de fichiers."
   ]
  },
  {
   "cell_type": "markdown",
   "id": "c7abf41a-9174-448c-a4f6-0107c6109289",
   "metadata": {},
   "source": [
    "<div style=\"font-family: 'Times New Roman';color: green;\">\n",
    "\n",
    "#### **2.Pourquoi est-il utile de stocker des données dans un fichier HDF5 plutôt que dans un fichier CSV ?**"
   ]
  },
  {
   "cell_type": "markdown",
   "id": "fa6e0543-e9f2-4219-9d99-fe7ed1890075",
   "metadata": {},
   "source": [
    "<div style=\"font-family: 'Times New Roman';\">\n",
    "\n",
    "+ Parce que HDF5 est plus efficace pour stocker et lire de gros fichiers, il supporte la compression et permet une lecture sélective des données."
   ]
  },
  {
   "cell_type": "markdown",
   "id": "6c05e165-73df-4bd1-be96-550f6fc93734",
   "metadata": {},
   "source": [
    "-----    \n",
    "    \n",
    "  >#### _**`Lecture par Morceaux `**_\n",
    "\n",
    "------ \n"
   ]
  },
  {
   "cell_type": "markdown",
   "id": "792c390b-a658-44eb-80a5-ba2a595422d3",
   "metadata": {},
   "source": [
    "<div style=\"font-family: 'Times New Roman';color: green;\">\n",
    "\n",
    "#### **1.Pourquoi est-il nécessaire de lire un fichier volumineux par morceaux ?**"
   ]
  },
  {
   "cell_type": "markdown",
   "id": "860244ea-22c7-4fc0-9a68-de2249a81069",
   "metadata": {},
   "source": [
    "<div style=\"font-family: 'Times New Roman';\">\n",
    "\n",
    "+ Parce que le fichier est trop gros pour être chargé en mémoire en une seule fois. Lire par morceaux permet de traiter les données sans saturer la mémoire."
   ]
  },
  {
   "cell_type": "markdown",
   "id": "5af64f6f-71f1-404a-b12b-56bbd57d960b",
   "metadata": {},
   "source": [
    "<div style=\"font-family: 'Times New Roman';color: green;\">\n",
    "\n",
    "#### **2.Comment pouvez-vous filtrer et combiner des données provenant de plusieurs morceaux ?**"
   ]
  },
  {
   "cell_type": "markdown",
   "id": "29cca164-157f-4a2b-92df-36855d67e6ee",
   "metadata": {},
   "source": [
    "<div style=\"font-family: 'Times New Roman';\">\n",
    "         \n",
    "+ On lit le fichier par morceaux avec _`chunksize`_, on __`filtre chaque morceau`__, et on combine les résultats avec `pd.concat().`"
   ]
  },
  {
   "cell_type": "markdown",
   "id": "e288f15e-df19-4fee-a305-a173550085d1",
   "metadata": {},
   "source": [
    "\n",
    "-----    \n",
    "    \n",
    "  >#### _**` Chargement dans une Base de Données `**_\n",
    "\n",
    "------ \n"
   ]
  },
  {
   "cell_type": "markdown",
   "id": "d1324bf3-f46a-48e9-bf0d-f852f738d7fd",
   "metadata": {},
   "source": [
    "<div style=\"font-family: 'Times New Roman';color: green;\">\n",
    "\n",
    "#### **1.Quels sont les avantages de stocker des données dans une base de données SQLite plutôt que dans un fichier CSV ?**"
   ]
  },
  {
   "cell_type": "markdown",
   "id": "49401a31-d729-409c-a897-61ad5b3a56c0",
   "metadata": {},
   "source": [
    "<div style=\"font-family: 'Times New Roman';\">\n",
    "    \n",
    "+ __`SQLite`__ permet de faire des `requêtes SQL complexes` _(jointures, filtres, etc.)_ et est plus efficace pour __`les gros fichiers grâce à l'indexation.`__"
   ]
  },
  {
   "cell_type": "markdown",
   "id": "868e28c3-7d64-46f5-b569-e8373b38468f",
   "metadata": {},
   "source": [
    "<div style=\"font-family: 'Times New Roman';color: green;\">\n",
    "\n",
    "#### **2.Comment pouvez-vous exécuter des requêtes SQL sur une base de données SQLite à partir de Python ?**"
   ]
  },
  {
   "cell_type": "markdown",
   "id": "e8c9fe13-cb2c-40b2-93ea-6572afaacbe6",
   "metadata": {},
   "source": [
    "+ On utilise la bibliothèque __`sqlite3`__ pour se connecter à la base de données et exécuter des requêtes SQL avec `cursor.execute().`"
   ]
  }
 ],
 "metadata": {
  "kernelspec": {
   "display_name": "Python 3 (ipykernel)",
   "language": "python",
   "name": "python3"
  },
  "language_info": {
   "codemirror_mode": {
    "name": "ipython",
    "version": 3
   },
   "file_extension": ".py",
   "mimetype": "text/x-python",
   "name": "python",
   "nbconvert_exporter": "python",
   "pygments_lexer": "ipython3",
   "version": "3.12.4"
  }
 },
 "nbformat": 4,
 "nbformat_minor": 5
}
